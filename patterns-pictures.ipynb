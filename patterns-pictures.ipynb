{
 "cells": [
  {
   "cell_type": "markdown",
   "metadata": {},
   "source": [
    "# Read-Image"
   ]
  },
  {
   "cell_type": "markdown",
   "metadata": {},
   "source": [
    "#### Repositório para testes da biblioteca OpenCV,  o projeto destinasse a identificar padrões em imagens"
   ]
  },
  {
   "cell_type": "code",
   "execution_count": 2,
   "metadata": {},
   "outputs": [],
   "source": [
    "#importa todas as bibliotecas usadas\n",
    "import matplotlib.pyplot as plt\n",
    "import numpy as np\n",
    "import cv2 as cv"
   ]
  },
  {
   "cell_type": "markdown",
   "metadata": {},
   "source": [
    "##### Carregar a imagem base das derivadas que serão analisadas"
   ]
  },
  {
   "cell_type": "code",
   "execution_count": 42,
   "metadata": {},
   "outputs": [],
   "source": [
    "#Carregando gabarito base em escala de cinza\n",
    "gBase = cv.imread('dataset/imgs/gabarito_circular_simples.png', cv.IMREAD_GRAYSCALE)"
   ]
  },
  {
   "cell_type": "code",
   "execution_count": 43,
   "metadata": {},
   "outputs": [
    {
     "data": {
      "image/png": "[encoded data removed]",
      "text/plain": [
       "<Figure size 432x288 with 1 Axes>"
      ]
     },
     "metadata": {},
     "output_type": "display_data"
    }
   ],
   "source": [
    "plt.imshow(gBase)\n",
    "plt.show()"
   ]
  },
  {
   "cell_type": "markdown",
   "metadata": {},
   "source": [
    "#### Carregar o gabarito já preenchido"
   ]
  },
  {
   "cell_type": "code",
   "execution_count": 44,
   "metadata": {},
   "outputs": [],
   "source": [
    "gPreenchido = cv.imread('dataset/imgs/gabarito_circular_simples_preenchido.png', cv.IMREAD_GRAYSCALE)"
   ]
  },
  {
   "cell_type": "code",
   "execution_count": 45,
   "metadata": {},
   "outputs": [
    {
     "data": {
      "image/png": "[encoded data removed]",
      "text/plain": [
       "<Figure size 432x288 with 1 Axes>"
      ]
     },
     "metadata": {},
     "output_type": "display_data"
    }
   ],
   "source": [
    "plt.imshow(gPreenchido)\n",
    "plt.show()"
   ]
  },
  {
   "cell_type": "markdown",
   "metadata": {},
   "source": [
    "###### Identificando a diferença entre o gabarito base e o preenchido"
   ]
  },
  {
   "cell_type": "code",
   "execution_count": 47,
   "metadata": {},
   "outputs": [],
   "source": [
    "gDiferenca = cv.subtract(gBase,gPreenchido) #Identificando as diferenças entre os gabaritos"
   ]
  },
  {
   "cell_type": "code",
   "execution_count": 48,
   "metadata": {},
   "outputs": [],
   "source": [
    "_,gDiferenca = cv.threshold(gDiferenca, 155, 255, cv.THRESH_OTSU) #tornando a diferença uma img binária"
   ]
  },
  {
   "cell_type": "code",
   "execution_count": 49,
   "metadata": {},
   "outputs": [],
   "source": [
    "kernel = np.ones((5,5),np.uint8) #definindo o quadrado para cobrir as falhas"
   ]
  },
  {
   "cell_type": "code",
   "execution_count": 50,
   "metadata": {},
   "outputs": [],
   "source": [
    "gDiferencaClose = cv.morphologyEx(gDiferenca, \n",
    "                                  cv.MORPH_CLOSE, \n",
    "                                  kernel) #cobrindo as falhas existentes na img diferença"
   ]
  },
  {
   "cell_type": "code",
   "execution_count": 51,
   "metadata": {
    "scrolled": true
   },
   "outputs": [
    {
     "data": {
      "image/png": "[encoded data removed]",
      "text/plain": [
       "<Figure size 432x288 with 1 Axes>"
      ]
     },
     "metadata": {},
     "output_type": "display_data"
    }
   ],
   "source": [
    "plt.imshow(gDiferencaClose)\n",
    "plt.show()"
   ]
  },
  {
   "cell_type": "markdown",
   "metadata": {},
   "source": [
    "Após identificar a diferença entre os gabaritos, os mesmos podem ser analisados para identificar qual a questão corresponde marcada"
   ]
  },
  {
   "cell_type": "code",
   "execution_count": 69,
   "metadata": {},
   "outputs": [],
   "source": [
    "def find_shapes(img):\n",
    "    # Configuração dos parâmetros do SimpleBlobDetector.\n",
    "    params = cv.SimpleBlobDetector_Params()\n",
    "     \n",
    "    # Alterar limites\n",
    "    params.minThreshold = 100;\n",
    "    params.maxThreshold = 5000;\n",
    "     \n",
    "    # Filtrar por Área.\n",
    "    params.filterByArea = True\n",
    "    params.minArea = 20\n",
    "     \n",
    "    # Filtrar por Circularidade\n",
    "    params.filterByCircularity = False\n",
    "    params.minCircularity = 0.785\n",
    "     \n",
    "    # Filtrar por convexidade\n",
    "    params.filterByConvexity = False\n",
    "    params.minConvexity = 0.87\n",
    "     \n",
    "    # Filtrar por Inércia\n",
    "    params.filterByInertia = True\n",
    "    params.minInertiaRatio = 0.01\n",
    "\n",
    "    # Criando o detector baseado na versão do CV\n",
    "    is_cv3 = cv.__version__.startswith(\"3.\")\n",
    "    if is_cv3:\n",
    "        detector = cv.SimpleBlobDetector_create()\n",
    "    else:\n",
    "        detector = cv.SimpleBlobDetector()\n",
    "     \n",
    "    #Detectando corpos\n",
    "    keypoints = detector.detect(img)\n",
    "      \n",
    "    # Criando nova imagem com os elementos identificandos pelo detector\n",
    "    im_with_keypoints = cv.drawKeypoints(img, keypoints, np.array([]),\n",
    "            (0,0,255), cv.DRAW_MATCHES_FLAGS_DRAW_RICH_KEYPOINTS)\n",
    "    cv.imwrite(\"dataset/imgs/identificadas/shapes.jpg\", im_with_keypoints); "
   ]
  },
  {
   "cell_type": "code",
   "execution_count": 70,
   "metadata": {},
   "outputs": [],
   "source": [
    "find_shapes(gDiferenca)"
   ]
  },
  {
   "cell_type": "code",
   "execution_count": 71,
   "metadata": {},
   "outputs": [
    {
     "data": {
      "image/png": "[encoded data removed]",
      "text/plain": [
       "<Figure size 432x288 with 1 Axes>"
      ]
     },
     "metadata": {},
     "output_type": "display_data"
    }
   ],
   "source": [
    "img = cv.imread('dataset/imgs/identificadas/shapes.jpg', cv.IMREAD_GRAYSCALE)\n",
    "plt.imshow(img)\n",
    "plt.show()"
   ]
  },
  {
   "cell_type": "markdown",
   "metadata": {},
   "source": [
    "Foi possivei identificar que muitos elementos além das possíveis respostas são identificadas, por isso a imagem deve ser refinada, podendo assim identificar pontos centrais das respostas"
   ]
  },
  {
   "cell_type": "code",
   "execution_count": 53,
   "metadata": {},
   "outputs": [],
   "source": [
    "gDiferencaLimpa = cv.erode(gDiferencaClose, kernel, iterations=2) #refinando a aproximação do ponto"
   ]
  },
  {
   "cell_type": "code",
   "execution_count": 54,
   "metadata": {},
   "outputs": [
    {
     "data": {
      "image/png": "[encoded data removed]",
      "text/plain": [
       "<Figure size 432x288 with 1 Axes>"
      ]
     },
     "metadata": {},
     "output_type": "display_data"
    }
   ],
   "source": [
    "plt.imshow(gDiferencaLimpa)\n",
    "plt.show()"
   ]
  },
  {
   "cell_type": "markdown",
   "metadata": {},
   "source": [
    "##### Enumerando as respostas"
   ]
  }
 ],
 "metadata": {
  "kernelspec": {
   "display_name": "Python 3",
   "language": "python",
   "name": "python3"
  },
  "language_info": {
   "codemirror_mode": {
    "name": "ipython",
    "version": 3
   },
   "file_extension": ".py",
   "mimetype": "text/x-python",
   "name": "python",
   "nbconvert_exporter": "python",
   "pygments_lexer": "ipython3",
   "version": "3.5.2"
  }
 },
 "nbformat": 4,
 "nbformat_minor": 2
}
